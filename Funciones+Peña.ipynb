{
 "cells": [
  {
   "cell_type": "code",
   "execution_count": 1,
   "id": "246d1ad6",
   "metadata": {},
   "outputs": [],
   "source": [
    "def factorial(x):\n",
    "    '''\n",
    "    Esta función calcula el factorial de un número\n",
    "    Args: x - es el número al cuál se le calcula el factorial\n",
    "    \n",
    "    '''\n",
    "    fac = 1\n",
    "    for i in range(1,x):\n",
    "        fac*=i+1\n",
    "    return fac"
   ]
  },
  {
   "cell_type": "code",
   "execution_count": 2,
   "id": "f2faf813",
   "metadata": {},
   "outputs": [
    {
     "data": {
      "text/plain": [
       "120"
      ]
     },
     "execution_count": 2,
     "metadata": {},
     "output_type": "execute_result"
    }
   ],
   "source": [
    "factorial(5)"
   ]
  },
  {
   "cell_type": "code",
   "execution_count": 3,
   "id": "c3200c69",
   "metadata": {},
   "outputs": [
    {
     "data": {
      "text/plain": [
       "620448401733239439360000"
      ]
     },
     "execution_count": 3,
     "metadata": {},
     "output_type": "execute_result"
    }
   ],
   "source": [
    "factorial(24)"
   ]
  },
  {
   "cell_type": "code",
   "execution_count": 4,
   "id": "0fc2fd1c",
   "metadata": {},
   "outputs": [
    {
     "data": {
      "text/plain": [
       "93326215443944152681699238856266700490715968264381621468592963895217599993229915608941463976156518286253697920827223758251185210916864000000000000000000000000"
      ]
     },
     "execution_count": 4,
     "metadata": {},
     "output_type": "execute_result"
    }
   ],
   "source": [
    "factorial(100)"
   ]
  },
  {
   "cell_type": "code",
   "execution_count": 7,
   "id": "817f6270",
   "metadata": {},
   "outputs": [],
   "source": [
    "def sumatoria(x,y):\n",
    "    '''\n",
    "    Esta función calcula la sumatoria desde un número a otro sabiendo que el primero siempre será menor que el segundo\n",
    "    Args: x - primer número y siempre menor a y\n",
    "          y - segúndo número mayor que x\n",
    "    \n",
    "    '''\n",
    "    suma = 0\n",
    "    for i in range(x,y+1):\n",
    "        suma += i\n",
    "    return suma"
   ]
  },
  {
   "cell_type": "code",
   "execution_count": 8,
   "id": "fc82ca03",
   "metadata": {},
   "outputs": [
    {
     "data": {
      "text/plain": [
       "55"
      ]
     },
     "execution_count": 8,
     "metadata": {},
     "output_type": "execute_result"
    }
   ],
   "source": [
    "sumatoria(1,10)"
   ]
  },
  {
   "cell_type": "code",
   "execution_count": 9,
   "id": "fde96d43",
   "metadata": {},
   "outputs": [
    {
     "data": {
      "text/plain": [
       "495550"
      ]
     },
     "execution_count": 9,
     "metadata": {},
     "output_type": "execute_result"
    }
   ],
   "source": [
    "sumatoria(100,1000)"
   ]
  },
  {
   "cell_type": "code",
   "execution_count": 10,
   "id": "b8996de9",
   "metadata": {},
   "outputs": [
    {
     "data": {
      "text/plain": [
       "493360"
      ]
     },
     "execution_count": 10,
     "metadata": {},
     "output_type": "execute_result"
    }
   ],
   "source": [
    "sumatoria(factorial(5),1000)"
   ]
  },
  {
   "cell_type": "code",
   "execution_count": null,
   "id": "cdd48178",
   "metadata": {},
   "outputs": [],
   "source": []
  }
 ],
 "metadata": {
  "kernelspec": {
   "display_name": "Python 3",
   "language": "python",
   "name": "python3"
  },
  "language_info": {
   "codemirror_mode": {
    "name": "ipython",
    "version": 3
   },
   "file_extension": ".py",
   "mimetype": "text/x-python",
   "name": "python",
   "nbconvert_exporter": "python",
   "pygments_lexer": "ipython3",
   "version": "3.8.8"
  }
 },
 "nbformat": 4,
 "nbformat_minor": 5
}
